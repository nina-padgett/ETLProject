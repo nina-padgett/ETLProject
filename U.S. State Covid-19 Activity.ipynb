{
 "cells": [
  {
   "cell_type": "code",
   "execution_count": null,
   "id": "4c3be3bc",
   "metadata": {
    "scrolled": true
   },
   "outputs": [],
   "source": [
    "import pandas as pd\n",
    "from sqlalchemy import create_engine\n",
    "from config import username\n",
    "from config import password\n",
    "\n",
    "COVID_19_Activity_df = pd.read_csv('https://query.data.world/s/ynb7kpmvt5dw26vogf5ozoqjqpyhb2')\n",
    "COVID_19_Activity_df"
   ]
  },
  {
   "cell_type": "code",
   "execution_count": null,
   "id": "88d0f024",
   "metadata": {},
   "outputs": [],
   "source": [
    "#Drop the rows where at least one element is missing\n",
    "COVID_19_Activity_reduced_df = COVID_19_Activity_df.dropna()\n",
    "COVID_19_Activity_reduced_df"
   ]
  },
  {
   "cell_type": "code",
   "execution_count": null,
   "id": "95c97f57",
   "metadata": {},
   "outputs": [],
   "source": [
    "#Identify incomplete rows\n",
    "COVID_19_Activity_reduced_df[\"PROVINCE_STATE_NAME\"].value_counts()"
   ]
  },
  {
   "cell_type": "code",
   "execution_count": null,
   "id": "2645893d",
   "metadata": {},
   "outputs": [],
   "source": [
    "#Groupby State\n",
    "State_COVID_19_Activity_df = COVID_19_Activity_reduced_df.groupby([\"PROVINCE_STATE_NAME\"]).sum()\n",
    "State_COVID_19_Activity_df = State_COVID_19_Activity_df.reset_index()\n",
    "State_COVID_19_Activity_df"
   ]
  },
  {
   "cell_type": "code",
   "execution_count": null,
   "id": "0334d5d1",
   "metadata": {
    "scrolled": true
   },
   "outputs": [],
   "source": [
    "# State_COVID_19_Activity_df.drop(\"COUNTY_FIPS_NUMBER\", axis=1, inplace=True)\n",
    "State_COVID_19_Activity_df.drop([\"COUNTY_FIPS_NUMBER\", \"PEOPLE_POSITIVE_CASES_COUNT\",\"PEOPLE_DEATH_COUNT\"], axis=1, inplace=True)\n",
    "State_COVID_19_Activity_df"
   ]
  },
  {
   "cell_type": "code",
   "execution_count": null,
   "id": "20d42a3c",
   "metadata": {},
   "outputs": [],
   "source": [
    "#Read and format US population dataset\n",
    "US_Population_df = pd.read_csv('Datasets/NST-EST2021-POP.csv')\n",
    "US_Population_df = US_Population_df.rename(columns = {'STATE': 'PROVINCE_STATE_NAME'})\n",
    "US_Population_df['PROVINCE_STATE_NAME'] = US_Population_df['PROVINCE_STATE_NAME'].apply(lambda x: x.replace(\".\",\"\"))\n",
    "US_Population_df['POPULATION'] = US_Population_df['POPULATION'].apply(lambda x: x.replace(\",\",\"\"))\n",
    "US_Population_df"
   ]
  },
  {
   "cell_type": "code",
   "execution_count": null,
   "id": "0f6dd479",
   "metadata": {
    "scrolled": true
   },
   "outputs": [],
   "source": [
    "#Merge and format data\n",
    "population_covid_df = pd.merge(US_Population_df, State_COVID_19_Activity_df, on=['PROVINCE_STATE_NAME'])\n",
    "population_covid_df[\"POPULATION\"]=population_covid_df[\"POPULATION\"].astype(int)\n",
    "#Population_COVID_df.dtypes\n",
    "population_covid_df"
   ]
  },
  {
   "cell_type": "code",
   "execution_count": null,
   "id": "28014497",
   "metadata": {},
   "outputs": [],
   "source": [
    "#Add %Cases and %Death count with US state % population\n",
    "population_covid_df[\"Perc_Cases\"]=(population_covid_df[\"PEOPLE_POSITIVE_NEW_CASES_COUNT\"]/population_covid_df[\"POPULATION\"]*100)\n",
    "population_covid_df[\"Perc_Death\"]=(population_covid_df[\"PEOPLE_DEATH_NEW_COUNT\"]/population_covid_df[\"POPULATION\"]*100)\n",
    "population_covid_df=population_covid_df.sort_values(\"Perc_Cases\")\n",
    "population_covid_df"
   ]
  },
  {
   "cell_type": "code",
   "execution_count": null,
   "id": "074950d7",
   "metadata": {},
   "outputs": [],
   "source": [
    "population_covid_df.columns"
   ]
  },
  {
   "cell_type": "code",
   "execution_count": null,
   "id": "2232fc0c",
   "metadata": {},
   "outputs": [],
   "source": [
    "population_covid_df.columns=['province_state_name', 'population',\n",
    "       'people_death_new_count', 'people_positive_new_cases_count',\n",
    "       'perc_cases', 'perc_death']\n",
    "population_covid_df"
   ]
  },
  {
   "cell_type": "code",
   "execution_count": null,
   "id": "cacc9c74",
   "metadata": {},
   "outputs": [],
   "source": [
    "#Connect to local database\n",
    "protocol = 'postgresql'\n",
    "host = 'localhost'\n",
    "port = 5432\n",
    "database_name = 'population_covid_db'\n",
    "rds_connection_string = f'{protocol}://{username}:{password}@{host}:{port}/{database_name}'\n",
    "engine = create_engine(rds_connection_string)"
   ]
  },
  {
   "cell_type": "code",
   "execution_count": null,
   "id": "31b4d501",
   "metadata": {},
   "outputs": [],
   "source": [
    "#Confirm table\n",
    "engine.table_names()"
   ]
  },
  {
   "cell_type": "code",
   "execution_count": null,
   "id": "dbcf3179",
   "metadata": {},
   "outputs": [],
   "source": [
    "#Load final dataframe to database\n",
    "population_covid_df.to_sql(name='state_covid_19_activity', con=engine, if_exists='append', index=False)"
   ]
  },
  {
   "cell_type": "code",
   "execution_count": null,
   "id": "ac780b63",
   "metadata": {},
   "outputs": [],
   "source": [
    "pd.read_sql_query('select * from state_covid_19_activity', con=engine).head()"
   ]
  }
 ],
 "metadata": {
  "kernelspec": {
   "display_name": "Python [conda env:PythonData38] *",
   "language": "python",
   "name": "conda-env-PythonData38-py"
  },
  "language_info": {
   "codemirror_mode": {
    "name": "ipython",
    "version": 3
   },
   "file_extension": ".py",
   "mimetype": "text/x-python",
   "name": "python",
   "nbconvert_exporter": "python",
   "pygments_lexer": "ipython3",
   "version": "3.8.12"
  }
 },
 "nbformat": 4,
 "nbformat_minor": 5
}
